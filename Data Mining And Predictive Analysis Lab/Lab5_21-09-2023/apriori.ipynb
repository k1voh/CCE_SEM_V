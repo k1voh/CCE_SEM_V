{
 "cells": [
  {
   "cell_type": "code",
   "execution_count": 1,
   "metadata": {},
   "outputs": [],
   "source": [
    "from itertools import combinations,permutations\n",
    "import pandas as pd\n",
    "import re"
   ]
  },
  {
   "cell_type": "code",
   "execution_count": 2,
   "metadata": {},
   "outputs": [],
   "source": [
    "transactions = {'T1' : 'abcdef',\n",
    "                'T2' : 'abcg',\n",
    "                'T3' : 'abdh',\n",
    "                'T4' : 'bcdek',\n",
    "                'T5' : 'abc'}"
   ]
  },
  {
   "cell_type": "markdown",
   "metadata": {},
   "source": [
    "### Initialisation"
   ]
  },
  {
   "cell_type": "markdown",
   "metadata": {},
   "source": [
    "#### sorting each transaction"
   ]
  },
  {
   "cell_type": "code",
   "execution_count": 3,
   "metadata": {},
   "outputs": [],
   "source": [
    "for i in transactions.keys():\n",
    "    transactions[i] = ''.join(sorted(transactions[i]))"
   ]
  },
  {
   "cell_type": "markdown",
   "metadata": {},
   "source": [
    "#### check if subset"
   ]
  },
  {
   "cell_type": "code",
   "execution_count": 4,
   "metadata": {},
   "outputs": [],
   "source": [
    "def checkSubset(sset,set):\n",
    "    if len(sset) > len(set):\n",
    "        return False\n",
    "    newSet = []\n",
    "    for num,item in enumerate(list(permutations(set))):\n",
    "        newSet.append(''.join(list(item)))\n",
    "    for itemset in newSet:\n",
    "        if sset in itemset:\n",
    "            return True\n",
    "    return False"
   ]
  },
  {
   "cell_type": "markdown",
   "metadata": {},
   "source": [
    "#### calculate support function"
   ]
  },
  {
   "cell_type": "code",
   "execution_count": 5,
   "metadata": {},
   "outputs": [],
   "source": [
    "def calculateSupport(itemset, transactions):\n",
    "    support_itemset = 0\n",
    "    for i in transactions.values():\n",
    "        if checkSubset(itemset,i):\n",
    "            support_itemset += 1\n",
    "    \n",
    "    return support_itemset"
   ]
  },
  {
   "cell_type": "markdown",
   "metadata": {},
   "source": [
    "#### generate candidate set\n"
   ]
  },
  {
   "cell_type": "code",
   "execution_count": 6,
   "metadata": {},
   "outputs": [],
   "source": [
    "candidateSet = {}\n",
    "for i in transactions.values():\n",
    "    for j in i:\n",
    "        if j not in candidateSet.keys():\n",
    "            candidateSet[j] = calculateSupport(j,transactions)\n"
   ]
  },
  {
   "cell_type": "markdown",
   "metadata": {},
   "source": [
    "#### input the minimum support"
   ]
  },
  {
   "cell_type": "code",
   "execution_count": 7,
   "metadata": {},
   "outputs": [],
   "source": [
    "minSup = int(input(\"Enter the minimum support : \"))"
   ]
  },
  {
   "cell_type": "markdown",
   "metadata": {},
   "source": [
    "#### generate frequent itemset function"
   ]
  },
  {
   "cell_type": "code",
   "execution_count": 8,
   "metadata": {},
   "outputs": [
    {
     "data": {
      "text/plain": [
       "{'a': 4, 'b': 5, 'c': 4, 'd': 3, 'e': 2}"
      ]
     },
     "execution_count": 8,
     "metadata": {},
     "output_type": "execute_result"
    }
   ],
   "source": [
    "#pruning the candidate set for frequent itemset\n",
    "\n",
    "freqSet = {}\n",
    "def generateFreqSet(candidateSet):\n",
    "    for i in candidateSet.keys():\n",
    "        if candidateSet[i] >= minSup:\n",
    "            freqSet[i] = candidateSet[i]\n",
    "    return freqSet\n",
    "generateFreqSet(candidateSet)\n",
    "\n",
    "freqSet"
   ]
  },
  {
   "cell_type": "markdown",
   "metadata": {},
   "source": [
    "#### initialisation of number of iterations(k)"
   ]
  },
  {
   "cell_type": "code",
   "execution_count": 9,
   "metadata": {},
   "outputs": [],
   "source": [
    "k = 2"
   ]
  },
  {
   "cell_type": "markdown",
   "metadata": {},
   "source": [
    "### Algorithm\n"
   ]
  },
  {
   "cell_type": "markdown",
   "metadata": {},
   "source": [
    "#### generating candidate sets from frequent itemsets\n"
   ]
  },
  {
   "cell_type": "code",
   "execution_count": 10,
   "metadata": {},
   "outputs": [],
   "source": [
    "def removeDuplicates(word):\n",
    "    word = ''.join(sorted(list(set(word))))\n",
    "    return word"
   ]
  },
  {
   "cell_type": "markdown",
   "metadata": {},
   "source": [
    "#### generate candidate set function"
   ]
  },
  {
   "cell_type": "code",
   "execution_count": 11,
   "metadata": {},
   "outputs": [],
   "source": [
    "def generateCandidateSet(freqSet,K):\n",
    "    new_keys = list(combinations(freqSet.keys(),K))\n",
    "    for num,i in enumerate(new_keys):\n",
    "        new_keys[num] = list(set(i))\n",
    "        res = removeDuplicates(''.join(new_keys[num])) #remove all duplicates while maintaining order\n",
    "        new_keys[num] = res\n",
    "    candidateSet = {}\n",
    "    for i in new_keys:\n",
    "        i = ''.join(sorted(i))\n",
    "        candidateSet[i] = calculateSupport(i,transactions)\n",
    "    return candidateSet"
   ]
  },
  {
   "cell_type": "code",
   "execution_count": 31,
   "metadata": {},
   "outputs": [],
   "source": [
    "def printConfidence(freqSet):\n",
    "    for item in freqSet.keys():\n",
    "        for item_range in range(len(freqSet)):\n",
    "            for i in list(combinations(item, item_range)):\n",
    "                i = ''.join(list(i))\n",
    "                if len(i) != 0:\n",
    "                    print(f\"{i} -> {''.join(list(set(item)-set(i)))} : \",calculateSupport(item,transactions)/calculateSupport(i,transactions))\n"
   ]
  },
  {
   "cell_type": "markdown",
   "metadata": {},
   "source": [
    "#### Pruning frequent itemsets"
   ]
  },
  {
   "cell_type": "code",
   "execution_count": 12,
   "metadata": {},
   "outputs": [],
   "source": [
    "def pruneFreqSet(freqSet):\n",
    "    rm_arr = []\n",
    "    for i in freqSet.keys():\n",
    "        newSet_keys = list(freqSet.keys())\n",
    "        newSet_keys.remove(i) #removing itself as an item so that it does not count itself as a subset\n",
    "        for j in newSet_keys:\n",
    "            if checkSubset(i,j):\n",
    "                rm_arr.append(i)\n",
    "    for i in rm_arr:\n",
    "        freqSet.pop(i)\n",
    "        \n",
    "    return freqSet"
   ]
  },
  {
   "cell_type": "markdown",
   "metadata": {},
   "source": [
    "#### Algorithm"
   ]
  },
  {
   "cell_type": "code",
   "execution_count": 32,
   "metadata": {},
   "outputs": [
    {
     "name": "stdout",
     "output_type": "stream",
     "text": [
      "Frequent Itemsets are :  ['abc', 'abd', 'bcde']\n",
      "Association Rules are : \n",
      "a -> bc :  0.75\n",
      "b -> ca :  0.6\n",
      "c -> ba :  0.75\n",
      "ab -> c :  0.75\n",
      "ac -> b :  1.0\n",
      "bc -> a :  0.75\n",
      "a -> bd :  0.5\n",
      "b -> ad :  0.4\n",
      "d -> ba :  0.6666666666666666\n",
      "ab -> d :  0.5\n",
      "ad -> b :  1.0\n",
      "bd -> a :  0.6666666666666666\n",
      "b -> ced :  0.4\n",
      "c -> bed :  0.5\n",
      "d -> bce :  0.6666666666666666\n",
      "e -> bcd :  1.0\n",
      "bc -> ed :  0.5\n",
      "bd -> ce :  0.6666666666666666\n",
      "be -> cd :  1.0\n",
      "cd -> be :  1.0\n",
      "ce -> bd :  1.0\n",
      "de -> bc :  1.0\n"
     ]
    }
   ],
   "source": [
    "while len(candidateSet.keys()) > 0:    \n",
    "    candidateSet = generateCandidateSet(freqSet,k)\n",
    "    #removing subsets present in freqSet\n",
    "    for cand_item in candidateSet.keys():\n",
    "        rm_keys = []\n",
    "        for freq_item in freqSet.keys():\n",
    "            if re.search(f'[{freq_item}]',cand_item):\n",
    "                rm_keys.append(freq_item)\n",
    "            list(set(rm_keys)) #creating unique values in the keys to be removed array\n",
    "        for keys in rm_keys:\n",
    "            freqSet.pop(keys)\n",
    "    freqSet = generateFreqSet(candidateSet)\n",
    "    freqSet = pruneFreqSet(freqSet)\n",
    "    k += 1\n",
    "\n",
    "print(\"Frequent Itemsets are : \", list(freqSet.keys()))\n",
    "print(\"Association Rules are : \")\n",
    "printConfidence(freqSet)"
   ]
  }
 ],
 "metadata": {
  "kernelspec": {
   "display_name": "Python 3",
   "language": "python",
   "name": "python3"
  },
  "language_info": {
   "codemirror_mode": {
    "name": "ipython",
    "version": 3
   },
   "file_extension": ".py",
   "mimetype": "text/x-python",
   "name": "python",
   "nbconvert_exporter": "python",
   "pygments_lexer": "ipython3",
   "version": "3.11.0"
  }
 },
 "nbformat": 4,
 "nbformat_minor": 2
}
