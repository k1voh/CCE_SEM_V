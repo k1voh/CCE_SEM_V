{
  "cells": [
    {
      "cell_type": "code",
      "execution_count": 4,
      "metadata": {
        "id": "J_mG2cNCGwf5"
      },
      "outputs": [],
      "source": [
        "import pandas as pd\n",
        "import math"
      ]
    },
    {
      "cell_type": "code",
      "execution_count": 5,
      "metadata": {
        "id": "hCQaX71eG2EX"
      },
      "outputs": [],
      "source": [
        "data = pd.read_csv(\"Dataset.csv\", skiprows=1, header=None)"
      ]
    },
    {
      "cell_type": "code",
      "execution_count": 6,
      "metadata": {
        "colab": {
          "base_uri": "https://localhost:8080/",
          "height": 206
        },
        "id": "poIsN58DG_Uu",
        "outputId": "60b81a96-3864-426a-b49b-9d88a6192991"
      },
      "outputs": [
        {
          "data": {
            "text/html": [
              "<div>\n",
              "<style scoped>\n",
              "    .dataframe tbody tr th:only-of-type {\n",
              "        vertical-align: middle;\n",
              "    }\n",
              "\n",
              "    .dataframe tbody tr th {\n",
              "        vertical-align: top;\n",
              "    }\n",
              "\n",
              "    .dataframe thead th {\n",
              "        text-align: right;\n",
              "    }\n",
              "</style>\n",
              "<table border=\"1\" class=\"dataframe\">\n",
              "  <thead>\n",
              "    <tr style=\"text-align: right;\">\n",
              "      <th></th>\n",
              "      <th>0</th>\n",
              "      <th>1</th>\n",
              "    </tr>\n",
              "  </thead>\n",
              "  <tbody>\n",
              "    <tr>\n",
              "      <th>0</th>\n",
              "      <td>185</td>\n",
              "      <td>72</td>\n",
              "    </tr>\n",
              "    <tr>\n",
              "      <th>1</th>\n",
              "      <td>170</td>\n",
              "      <td>56</td>\n",
              "    </tr>\n",
              "    <tr>\n",
              "      <th>2</th>\n",
              "      <td>168</td>\n",
              "      <td>60</td>\n",
              "    </tr>\n",
              "    <tr>\n",
              "      <th>3</th>\n",
              "      <td>179</td>\n",
              "      <td>68</td>\n",
              "    </tr>\n",
              "    <tr>\n",
              "      <th>4</th>\n",
              "      <td>182</td>\n",
              "      <td>72</td>\n",
              "    </tr>\n",
              "  </tbody>\n",
              "</table>\n",
              "</div>"
            ],
            "text/plain": [
              "     0   1\n",
              "0  185  72\n",
              "1  170  56\n",
              "2  168  60\n",
              "3  179  68\n",
              "4  182  72"
            ]
          },
          "execution_count": 6,
          "metadata": {},
          "output_type": "execute_result"
        }
      ],
      "source": [
        "data.head()"
      ]
    },
    {
      "cell_type": "code",
      "execution_count": 7,
      "metadata": {
        "colab": {
          "base_uri": "https://localhost:8080/"
        },
        "id": "yevR6EkmHdAH",
        "outputId": "29476e0d-e1c8-431a-867c-62a7937f9d7b"
      },
      "outputs": [
        {
          "name": "stdout",
          "output_type": "stream",
          "text": [
            "[[185, 72], [170, 56], [168, 60], [179, 68], [182, 72]]\n"
          ]
        }
      ],
      "source": [
        "dataset = data.values.tolist()\n",
        "print(dataset)"
      ]
    },
    {
      "cell_type": "markdown",
      "metadata": {},
      "source": [
        "# MODEL BUILDING"
      ]
    },
    {
      "cell_type": "markdown",
      "metadata": {},
      "source": [
        "## INITIALISATION"
      ]
    },
    {
      "cell_type": "code",
      "execution_count": 8,
      "metadata": {
        "id": "AhO94Q1mH_I_"
      },
      "outputs": [],
      "source": [
        "K = int(input(\"Enter the number of clusters : \"))"
      ]
    },
    {
      "cell_type": "code",
      "execution_count": 9,
      "metadata": {
        "id": "NmI5DxG0IIOW"
      },
      "outputs": [],
      "source": [
        "clusters = {}\n",
        "centroid = {}\n",
        "for i in range(1,K+1):\n",
        "  clusters[i] = [dataset[i-1]]\n",
        "  centroid[i] = dataset[i-1]"
      ]
    },
    {
      "cell_type": "markdown",
      "metadata": {},
      "source": [
        "## DISTANCE VECTOR"
      ]
    },
    {
      "cell_type": "code",
      "execution_count": 10,
      "metadata": {
        "id": "ILfKIg-iK3gV"
      },
      "outputs": [],
      "source": [
        "def euclidean(Xc,Yc,Xo,Yo):\n",
        "  return math.sqrt((Xo-Xc)**2 + (Yo-Yc)**2)"
      ]
    },
    {
      "cell_type": "markdown",
      "metadata": {},
      "source": [
        "## MODEL BUILDING"
      ]
    },
    {
      "cell_type": "code",
      "execution_count": 11,
      "metadata": {
        "colab": {
          "base_uri": "https://localhost:8080/"
        },
        "id": "aceR2mppIxlW",
        "outputId": "fcea9cca-83c9-4335-a2d1-f306ff1e7492"
      },
      "outputs": [
        {
          "name": "stdout",
          "output_type": "stream",
          "text": [
            "{1: [[185, 72], [179, 68], [182, 72]], 2: [[170, 56], [168, 60]]}\n"
          ]
        }
      ],
      "source": [
        "sumX = 0\n",
        "sumY = 0\n",
        "for i in range(K,len(dataset)):\n",
        "  sumX = 0\n",
        "  sumY = 0\n",
        "  min_list = []\n",
        "  for k in range(len(clusters)):\n",
        "    min_list.append(int(euclidean(list(centroid.values())[k][0], list(centroid.values())[k][1], dataset[i][0], dataset[i][1])))\n",
        "  cluster_number = min_list.index(min(min_list))+1\n",
        "  new_list = list(clusters[cluster_number])\n",
        "  new_list.append(dataset[i])\n",
        "  clusters[cluster_number] = new_list\n",
        "  for j in new_list:\n",
        "    sumX += j[0]\n",
        "    sumY += j[1]\n",
        "  avgX = sumX//(len(new_list))\n",
        "  avgY = sumY//(len(new_list))\n",
        "  centroid[cluster_number] = [avgX,avgY]\n",
        "print(clusters)\n"
      ]
    },
    {
      "cell_type": "markdown",
      "metadata": {},
      "source": [
        "# VISUALISATION\n"
      ]
    }
  ],
  "metadata": {
    "colab": {
      "provenance": []
    },
    "kernelspec": {
      "display_name": "Python 3",
      "name": "python3"
    },
    "language_info": {
      "codemirror_mode": {
        "name": "ipython",
        "version": 3
      },
      "file_extension": ".py",
      "mimetype": "text/x-python",
      "name": "python",
      "nbconvert_exporter": "python",
      "pygments_lexer": "ipython3",
      "version": "3.11.0"
    }
  },
  "nbformat": 4,
  "nbformat_minor": 0
}
